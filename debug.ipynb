{
 "cells": [
  {
   "cell_type": "code",
   "execution_count": 19,
   "outputs": [],
   "source": [
    "import cloudinary"
   ],
   "metadata": {
    "collapsed": false,
    "ExecuteTime": {
     "end_time": "2023-12-21T10:40:30.979404625Z",
     "start_time": "2023-12-21T10:40:30.934317817Z"
    }
   },
   "id": "a2f89d2edfe216cf"
  },
  {
   "cell_type": "code",
   "outputs": [
    {
     "data": {
      "text/plain": "<cloudinary.Config at 0x7fe93846fdc0>"
     },
     "execution_count": 20,
     "metadata": {},
     "output_type": "execute_result"
    }
   ],
   "source": [
    "cloudinary.config(\n",
    "    cloud_name=\"ezcode97\",\n",
    "    api_key=\"282633384362776\",\n",
    "    api_secret=\"_lKNowTjkgcktrr0SYansQU3x9w\"\n",
    ")"
   ],
   "metadata": {
    "collapsed": false,
    "ExecuteTime": {
     "end_time": "2023-12-21T10:40:31.200992331Z",
     "start_time": "2023-12-21T10:40:31.173032835Z"
    }
   },
   "id": "6e3ee39332590813",
   "execution_count": 20
  },
  {
   "cell_type": "code",
   "outputs": [],
   "source": [
    "image_url = \"https://upload.wikimedia.org/wikipedia/commons/b/b1/Tao_symbol.svg\""
   ],
   "metadata": {
    "collapsed": false,
    "ExecuteTime": {
     "end_time": "2023-12-21T10:40:31.383568869Z",
     "start_time": "2023-12-21T10:40:31.375215846Z"
    }
   },
   "id": "2eb00e579579d9e8",
   "execution_count": 21
  },
  {
   "cell_type": "code",
   "outputs": [
    {
     "name": "stdout",
     "output_type": "stream",
     "text": [
      "{'asset_id': 'cbba6e5cd54e03f623300f9fb0ea2959', 'public_id': 'test_folder/custom_image_name', 'version': 1703155459, 'version_id': '7546994026ede5a3cfac8d314d3a1a53', 'signature': '2fc9bb7dd953bbc2ccff465a96a06b8b8b3aa0e6', 'width': 80, 'height': 80, 'format': 'svg', 'resource_type': 'image', 'created_at': '2023-12-21T10:44:19Z', 'tags': [], 'bytes': 1887, 'type': 'upload', 'etag': 'acd64a5860694938ec90ccce5c770408', 'placeholder': False, 'url': 'http://res.cloudinary.com/ezcode97/image/upload/v1703155459/test_folder/custom_image_name.svg', 'secure_url': 'https://res.cloudinary.com/ezcode97/image/upload/v1703155459/test_folder/custom_image_name.svg', 'folder': 'test_folder', 'access_mode': 'public', 'original_filename': 'Tao_symbol', 'api_key': '282633384362776'}\n"
     ]
    }
   ],
   "source": [
    "upload_result = cloudinary.uploader.upload(\n",
    "    image_url,\n",
    "    folder='test_folder',\n",
    "    public_id='custom_image_name'\n",
    ")\n",
    "\n",
    "print(upload_result)"
   ],
   "metadata": {
    "collapsed": false,
    "ExecuteTime": {
     "end_time": "2023-12-21T10:44:21.095558113Z",
     "start_time": "2023-12-21T10:44:18.787574460Z"
    }
   },
   "id": "fb641c9604b28f9d",
   "execution_count": 23
  },
  {
   "cell_type": "code",
   "outputs": [
    {
     "data": {
      "text/plain": "'http://res.cloudinary.com/ezcode97/image/upload/v1703155459/test_folder/custom_image_name.svg'"
     },
     "execution_count": 24,
     "metadata": {},
     "output_type": "execute_result"
    }
   ],
   "source": [
    "upload_result.get('url')"
   ],
   "metadata": {
    "collapsed": false,
    "ExecuteTime": {
     "end_time": "2023-12-21T10:49:37.905939670Z",
     "start_time": "2023-12-21T10:49:37.864711308Z"
    }
   },
   "id": "d9899f05e16e2605",
   "execution_count": 24
  },
  {
   "cell_type": "code",
   "outputs": [],
   "source": [
    "from datetime import datetime, timedelta"
   ],
   "metadata": {
    "collapsed": false,
    "ExecuteTime": {
     "end_time": "2024-01-12T09:10:20.382178802Z",
     "start_time": "2024-01-12T09:10:20.356259239Z"
    }
   },
   "id": "9b8a0c4b21e0d89c",
   "execution_count": 1
  },
  {
   "cell_type": "code",
   "outputs": [],
   "source": [
    "import random\n",
    "\n",
    "created_date = (datetime.now() - timedelta(days=60)) + timedelta(days=random.randint(0, 60))"
   ],
   "metadata": {
    "collapsed": false,
    "ExecuteTime": {
     "end_time": "2024-01-12T09:11:00.582851618Z",
     "start_time": "2024-01-12T09:11:00.573319521Z"
    }
   },
   "id": "bb4e351dfbe07fd5",
   "execution_count": 4
  },
  {
   "cell_type": "code",
   "outputs": [],
   "source": [
    "created_date = created_date.strftime(\"%Y-%m-%d\")"
   ],
   "metadata": {
    "collapsed": false,
    "ExecuteTime": {
     "end_time": "2024-01-12T09:11:33.351863948Z",
     "start_time": "2024-01-12T09:11:33.342167254Z"
    }
   },
   "id": "b0d6a5ea257769af",
   "execution_count": 8
  },
  {
   "cell_type": "code",
   "outputs": [
    {
     "data": {
      "text/plain": "'2023-12-13'"
     },
     "execution_count": 9,
     "metadata": {},
     "output_type": "execute_result"
    }
   ],
   "source": [
    "created_date"
   ],
   "metadata": {
    "collapsed": false,
    "ExecuteTime": {
     "end_time": "2024-01-12T09:11:34.705303408Z",
     "start_time": "2024-01-12T09:11:34.671045629Z"
    }
   },
   "id": "78ec67d5fc2fb185",
   "execution_count": 9
  },
  {
   "cell_type": "code",
   "outputs": [],
   "source": [],
   "metadata": {
    "collapsed": false
   },
   "id": "7b4cdca966fc6b62"
  }
 ],
 "metadata": {
  "kernelspec": {
   "display_name": "Python 3",
   "language": "python",
   "name": "python3"
  },
  "language_info": {
   "codemirror_mode": {
    "name": "ipython",
    "version": 2
   },
   "file_extension": ".py",
   "mimetype": "text/x-python",
   "name": "python",
   "nbconvert_exporter": "python",
   "pygments_lexer": "ipython2",
   "version": "2.7.6"
  }
 },
 "nbformat": 4,
 "nbformat_minor": 5
}

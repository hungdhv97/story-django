{
 "cells": [
  {
   "cell_type": "code",
   "execution_count": 1,
   "id": "initial_id",
   "metadata": {
    "collapsed": true,
    "ExecuteTime": {
     "end_time": "2023-11-28T10:13:36.296878804Z",
     "start_time": "2023-11-28T10:13:36.272753574Z"
    }
   },
   "outputs": [
    {
     "name": "stdout",
     "output_type": "stream",
     "text": [
      "You selected the color red: ['r', 'e', 'd']\n"
     ]
    }
   ],
   "source": [
    "from enum import Enum\n",
    "\n",
    "# Định nghĩa danh sách các danh sách ký tự\n",
    "colors_list = [['r', 'e', 'd'], ['g', 'r', 'e', 'e', 'n'], ['b', 'l', 'u', 'e']]\n",
    "\n",
    "# Tạo enum từ danh sách các giá trị\n",
    "class Color(Enum):\n",
    "    RED = colors_list[0]\n",
    "    GREEN = colors_list[1]\n",
    "    BLUE = colors_list[2]\n",
    "\n",
    "# Sử dụng enum\n",
    "selected_color = Color.RED\n",
    "\n",
    "if selected_color == Color.RED:\n",
    "    print(\"You selected the color red:\", selected_color.value)\n"
   ]
  },
  {
   "cell_type": "code",
   "execution_count": 13,
   "outputs": [],
   "source": [],
   "metadata": {
    "collapsed": false,
    "ExecuteTime": {
     "end_time": "2023-11-28T10:22:48.244502238Z",
     "start_time": "2023-11-28T10:22:48.240619801Z"
    }
   },
   "id": "e7a6ddc16525ae3"
  },
  {
   "cell_type": "code",
   "execution_count": 27,
   "outputs": [],
   "source": [
    "class BaseUrl(Enum):\n",
    "    YGY_STAGING_G = \"https://g.staging.dowant.in\"\n",
    "    YGY_STAGING_E = \"https://e.staging.dowant.in\"\n",
    "    \n",
    "    @staticmethod\n",
    "    def from_token(base_url: str):\n",
    "        for staging in baseurl_dict:\n",
    "            if base_url in baseurl_dict[staging]:\n",
    "                return staging.value\n",
    "        return base_url"
   ],
   "metadata": {
    "collapsed": false,
    "ExecuteTime": {
     "end_time": "2023-11-28T10:31:43.570952899Z",
     "start_time": "2023-11-28T10:31:43.558900289Z"
    }
   },
   "id": "eb1ee1d3e75db9b7"
  },
  {
   "cell_type": "code",
   "execution_count": 28,
   "outputs": [],
   "source": [
    "baseurl_dict = {\n",
    "    BaseUrl.YGY_STAGING_G: [\n",
    "        \"https://g-staging.dowant.co.kr\",\n",
    "        \"https://g.staging.dowant.in\"\n",
    "    ],\n",
    "    BaseUrl.YGY_STAGING_E: [\n",
    "        \"https://e-staging.dowant.co.kr\",\n",
    "        \"https://e.staging.dowant.in\"\n",
    "    ],\n",
    "}"
   ],
   "metadata": {
    "collapsed": false,
    "ExecuteTime": {
     "end_time": "2023-11-28T10:31:43.743136999Z",
     "start_time": "2023-11-28T10:31:43.734961210Z"
    }
   },
   "id": "e501fe5fc1e00615"
  },
  {
   "cell_type": "code",
   "execution_count": 30,
   "outputs": [
    {
     "data": {
      "text/plain": "'https://g.staging.dowant.in'"
     },
     "execution_count": 30,
     "metadata": {},
     "output_type": "execute_result"
    }
   ],
   "source": [
    "BaseUrl.from_token(\"https://g-staging.dowant.co.kr\")"
   ],
   "metadata": {
    "collapsed": false,
    "ExecuteTime": {
     "end_time": "2023-11-28T10:31:47.252900117Z",
     "start_time": "2023-11-28T10:31:47.238076364Z"
    }
   },
   "id": "649e1ef280b9267a"
  },
  {
   "cell_type": "code",
   "execution_count": 9,
   "outputs": [],
   "source": [
    "def boo(a):\n",
    "    return a is not None and a.b"
   ],
   "metadata": {
    "collapsed": false,
    "ExecuteTime": {
     "end_time": "2023-11-29T03:30:02.929711545Z",
     "start_time": "2023-11-29T03:30:02.883364864Z"
    }
   },
   "id": "9453e6e53345f68b"
  },
  {
   "cell_type": "code",
   "execution_count": 10,
   "outputs": [
    {
     "name": "stdout",
     "output_type": "stream",
     "text": [
      "False\n"
     ]
    }
   ],
   "source": [
    "print(boo(None))"
   ],
   "metadata": {
    "collapsed": false,
    "ExecuteTime": {
     "end_time": "2023-11-29T03:30:03.212770201Z",
     "start_time": "2023-11-29T03:30:03.205551741Z"
    }
   },
   "id": "a2f89d2edfe216cf"
  }
 ],
 "metadata": {
  "kernelspec": {
   "display_name": "Python 3",
   "language": "python",
   "name": "python3"
  },
  "language_info": {
   "codemirror_mode": {
    "name": "ipython",
    "version": 2
   },
   "file_extension": ".py",
   "mimetype": "text/x-python",
   "name": "python",
   "nbconvert_exporter": "python",
   "pygments_lexer": "ipython2",
   "version": "2.7.6"
  }
 },
 "nbformat": 4,
 "nbformat_minor": 5
}

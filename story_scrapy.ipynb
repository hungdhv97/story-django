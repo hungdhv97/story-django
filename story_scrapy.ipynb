{
 "cells": [
  {
   "cell_type": "code",
   "execution_count": 1,
   "id": "initial_id",
   "metadata": {
    "collapsed": true,
    "ExecuteTime": {
     "end_time": "2023-12-18T02:47:41.573331919Z",
     "start_time": "2023-12-18T02:47:41.109327546Z"
    }
   },
   "outputs": [],
   "source": [
    "import requests\n",
    "from scrapy.http import TextResponse\n",
    "\n",
    "res = requests.get('https://truyenfull.vn/danh-sach/truyen-hot/')\n",
    "response = TextResponse(res.url, body=res.text, encoding='utf-8')"
   ]
  },
  {
   "cell_type": "code",
   "execution_count": 63,
   "outputs": [
    {
     "data": {
      "text/plain": "<200 https://truyenfull.vn/danh-sach/truyen-hot/>"
     },
     "execution_count": 63,
     "metadata": {},
     "output_type": "execute_result"
    }
   ],
   "source": [
    "response"
   ],
   "metadata": {
    "collapsed": false,
    "ExecuteTime": {
     "end_time": "2023-12-15T02:24:28.840321555Z",
     "start_time": "2023-12-15T02:24:28.838114600Z"
    }
   },
   "id": "f015039662587ce1"
  },
  {
   "cell_type": "code",
   "execution_count": 64,
   "outputs": [
    {
     "data": {
      "text/plain": "'https://truyenfull.vn/danh-sach/truyen-hot/trang-2/'"
     },
     "execution_count": 64,
     "metadata": {},
     "output_type": "execute_result"
    }
   ],
   "source": [
    "response.xpath('//div[contains(@class, \"pagination\")]//li[contains(@class, \"active\")]/following-sibling::li[1][not(contains(@class, \"dropup\"))]/a/@href').get()"
   ],
   "metadata": {
    "collapsed": false,
    "ExecuteTime": {
     "end_time": "2023-12-15T02:24:29.521538667Z",
     "start_time": "2023-12-15T02:24:29.495058635Z"
    }
   },
   "id": "3018a0918c2b02b5"
  },
  {
   "cell_type": "code",
   "execution_count": 33,
   "outputs": [
    {
     "ename": "AttributeError",
     "evalue": "'str' object has no attribute 'css'",
     "output_type": "error",
     "traceback": [
      "\u001B[0;31m---------------------------------------------------------------------------\u001B[0m",
      "\u001B[0;31mAttributeError\u001B[0m                            Traceback (most recent call last)",
      "Cell \u001B[0;32mIn[33], line 2\u001B[0m\n\u001B[1;32m      1\u001B[0m \u001B[38;5;28;01mfor\u001B[39;00m genre \u001B[38;5;129;01min\u001B[39;00m genres:\n\u001B[0;32m----> 2\u001B[0m     \u001B[38;5;28mprint\u001B[39m(\u001B[43mgenre\u001B[49m\u001B[38;5;241;43m.\u001B[39;49m\u001B[43mcss\u001B[49m(\u001B[38;5;124m\"\u001B[39m\u001B[38;5;124ma::text\u001B[39m\u001B[38;5;124m\"\u001B[39m)\u001B[38;5;241m.\u001B[39mget())\n",
      "\u001B[0;31mAttributeError\u001B[0m: 'str' object has no attribute 'css'"
     ]
    }
   ],
   "source": [
    "for genre in genres:\n",
    "    print(genre.css(\"a::text\").get())"
   ],
   "metadata": {
    "collapsed": false,
    "ExecuteTime": {
     "end_time": "2023-12-15T02:08:40.473690382Z",
     "start_time": "2023-12-15T02:08:40.275926768Z"
    }
   },
   "id": "1026c5978bd7b4b8"
  },
  {
   "cell_type": "code",
   "execution_count": 16,
   "outputs": [
    {
     "data": {
      "text/plain": "['https://truyenfull.vn/than-dao-dan-ton-606028/',\n 'https://truyenfull.vn/linh-vu-thien-ha/',\n 'https://truyenfull.vn/truyen-dau-pha-thuong-khung/',\n 'https://truyenfull.vn/me-vo-khong-loi-ve-982891/',\n 'https://truyenfull.vn/the-gioi-hoan-my/',\n 'https://truyenfull.vn/co-vo-ngot-ngao-co-chut-bat-luong-vo-moi-bat-luong-co-chut-ngot/',\n 'https://truyenfull.vn/pham-nhan-tu-tien/',\n 'https://truyenfull.vn/nhat-niem-vinh-hang/',\n 'https://truyenfull.vn/de-ba/',\n 'https://truyenfull.vn/re-quy-troi-cho-480197/',\n 'https://truyenfull.vn/tien-nghich/',\n 'https://truyenfull.vn/vu-dong-can-khon/',\n 'https://truyenfull.vn/van-co-chi-ton/',\n 'https://truyenfull.vn/ngao-the-dan-than/',\n 'https://truyenfull.vn/doc-ton-tam-gioi/',\n 'https://truyenfull.vn/nguyen-ton/',\n 'https://truyenfull.vn/mao-son-troc-quy-nhan/',\n 'https://truyenfull.vn/vu-than-chua-te/',\n 'https://truyenfull.vn/dao-tinh/',\n 'https://truyenfull.vn/hao-mon-kinh-mong-3-dung-de-lo-nhau/',\n 'https://truyenfull.vn/xuyen-nhanh-nam-than-bung-chay-di/',\n 'https://truyenfull.vn/thieu-gia-bi-bo-roi/',\n 'https://truyenfull.vn/pham-nhan-tu-tien-chi-tien-gioi-thien-pham-nhan-tu-tien-2/',\n 'https://truyenfull.vn/gia-thien/',\n 'https://truyenfull.vn/nam-chu-benh-kieu-sung-len-troi-657780/',\n 'https://truyenfull.vn/truyen-than-khong-thien-ha/',\n 'https://truyenfull.vn/dai-chua-te/']"
     },
     "execution_count": 16,
     "metadata": {},
     "output_type": "execute_result"
    }
   ],
   "source": [
    "response.css('.col-truyen-main .list-truyen .row h3 a::attr(href)').getall()"
   ],
   "metadata": {
    "collapsed": false,
    "ExecuteTime": {
     "end_time": "2023-12-15T01:47:19.295912174Z",
     "start_time": "2023-12-15T01:47:19.246951333Z"
    }
   },
   "id": "e620c40016f4cee2"
  },
  {
   "cell_type": "code",
   "execution_count": 37,
   "outputs": [],
   "source": [
    "res = requests.get('https://truyenfull.vn/than-dao-dan-ton-606028/chuong-1/')\n",
    "response = TextResponse(res.url, body=res.text, encoding='utf-8')"
   ],
   "metadata": {
    "collapsed": false,
    "ExecuteTime": {
     "end_time": "2023-12-18T07:18:57.912949628Z",
     "start_time": "2023-12-18T07:18:57.746076201Z"
    }
   },
   "id": "5fcd35c85c3f042e"
  },
  {
   "cell_type": "code",
   "execution_count": 42,
   "outputs": [
    {
     "data": {
      "text/plain": "'Vũ Quốc, Lăng Gia ở Thương Vân Trấn, trăng treo giữa trời.\\nLăng Hàn bỏ ra ròng rã mười giây, mới rốt cục khẳng định, hắn xác thực chuyển thế sống lại.\\nĐối với một cường giả Thiên Nhân Cảnh mà nói, cần mất mười giây mới có thể khẳng định một chuyện, đây tuyệt đối khó mà tin nổi, nhưng cũng đồng dạng chứng minh, sự tình phát sinh ở trên người hắn, là khó mà tin nổi cỡ nào.\\nĐời trước, hắn đứng trên đỉnh cao của võ đạo, ở đan đạo cũng có thành tựu cổ kim chưa thấy, khai sáng Tam Hỏa Dẫn thuật, gợi ra một hồi cách mạng ở Luyện Đan giới, được người tôn là Đan Đế.\\nNhưng hắn vẫn chưa thỏa mãn, còn muốn tiến thêm một bước, đạt đến Phá Hư Cảnh, Phá Toái Hư Không, hóa Phàm thành Thần trong truyền thuyết. Vì thế, hắn thăm dò vô số di tích, cuối cùng tiến vào Hắc Huyết Cốc, trải qua tầng tầng nguy hiểm, sau đó tìm tới một Cổ Tháp thần bí.\\nKhông có để hắn thất vọng, trên Cổ Tháp có văn tự màu vàng, chính là một bộ công pháp vô thượng, tên là Bất Diệt Thiên Kinh, luyện đến cảnh giới tối cao, thân thể bất hư bất hủ, cùng thiên địa đồng thọ!\\nNhưng cho dù lấy tu vi Thiên Nhân Cảnh của Lăng Hàn, vẫn cảm thấy Bất Diệt Thiên Kinh kia khó hiểu mịt mờ, thật giống như xem một quyển thiên thư, hoàn toàn không có manh mối.\\nHắn mạnh mẽ ghi nhớ bản công pháp kia, đang muốn nghiên cứu Cổ Tháp một chút, thì Cổ Tháp lại chấn động, bắn ra một đạo thần quang vô lượng, trong nháy mắt liền đánh nát cơ thể của hắn. Nhưng quái lạ chính là, linh hồn của hắn lại không tiêu tan, rơi vào một loại trạng thái tỉnh tỉnh mê mê, kéo dài hơn vạn năm.\\nỞ chỗ này vạn năm, linh hồn của hắn vẫn suy diễn Bất Diệt Thiên Kinh, ngoại trừ chuyện đó, thì hắn không làm được chuyện gì, mười ngàn năm sau, hắn rốt cục lĩnh ngộ tầng thứ nhất của công pháp.\\nMột cường giả Thiên Nhân Cảnh, bỏ ra 10000 năm, mới lĩnh ngộ được tầng thứ nhất của một môn công pháp, khái niệm này nghĩa là gì?\\nPhải biết cường giả Thiên Nhân Cảnh, tuổi thọ cũng không tới ngàn năm, bình thường mà nói, thế gian căn bản không ai có thể tu thành Bất Diệt Thiên Kinh, bởi vì còn chưa có bắt đầu đã chết già.\\nNhưng Lăng Hàn lại lấy loại phương thức quái lạ này, nắm giữ tầng thứ nhất của Bất Diệt Thiên Kinh, sau đó, hắn lại đột nhiên trùng sinh, chuyển thế sống lại ở trên người một thiếu niên mười sáu tuổi, đồng dạng tên là Lăng Hàn.\\nKhó mà tin nổi!\\n- Mặc kệ xảy ra chuyện gì, nói chung ta đã sống lại!\\n- Tuy bộ thân thể này mới chỉ là Luyện Thể tầng hai, phế vật đến không thể lại phế vật, nhưng ta đã từng là cường giả Thiên Nhân Cảnh, đứng ở đỉnh phong của võ đạo, lại là đan đạo đại sư, tư chất kém thì dùng đan dược tu bổ, không tin không thể trở lại đỉnh cao.\\n- Hơn nữa, ta rốt cục có thể tu luyện Bất Diệt Thiên Kinh, đây là một công pháp vô thượng, thậm chí... Khả năng không phải ở Phàm Giới, mà đến từ Thần giới trong truyền thuyết, bằng không làm sao có khả năng cần mười ngàn năm mới có thể hiểu được tầng thứ nhất?\\n- Đời này, ta nhất định có thể vượt qua tiền nhân, thành tựu Thần vị!\\n- Còn có, thân thể này đến tột cùng là xảy ra chuyện gì, mười sáu tuổi mới tu luyện tới Luyện Thể tầng hai, lẽ nào là bởi vì võ đạo bây giờ quá mức héo tàn?\\nOanh, vô số ký ức tràn vào trong đầu, đây là ký ức thuộc về một Lăng Hàn khác, mà trong quá trình này, hai người hoàn toàn khác nhau đã dung hợp làm một.\\n- Ta đã rõ ràng.\\nLăng Hàn gật đầu, sở dĩ hiện tại hắn mới là Luyện Thể tầng hai, nguyên nhân ở chỗ linh căn của hắn quá kém.\\nMuốn tu luyện thành Võ Giả, có một điều kiện tiên quyết, chính là nhất định phải nắm giữ linh căn. Có linh căn, mới có thể hấp thu linh khí trong trời đất, rèn luyện bản thân, hóa thành nguyên lực của bản thân.\\nCó linh căn hấp thu linh khí nhanh, có linh căn thì chậm, bởi vậy linh căn chia làm bốn đẳng cấp Thiên Địa Huyền Hoàng, mỗi đẳng cấp lại chia làm ba phẩm giai thượng trung hạ, lấy Thiên Cấp thượng phẩm tốt nhất, Hoàng Cấp hạ phẩm kém nhất.\\nPhán đoán linh căn ưu khuyết, then chốt ở trình độ tinh khiết, càng tinh khiết càng tốt, mà linh căn của Lăng Hàn, lại là Ngũ hành đủ cả, thuộc loại hỗn độn nhất, ở thế giới võ đạo, đây là loại linh căn kém nhất, tính vào Hoàng Cấp hạ phẩm cũng chỉ có thể nói miễn cưỡng, bởi vậy năm nay hắn đã mười sáu tuổi, nhưng chỉ tu luyện đến Luyện Thể tầng hai, mà bạn cùng lứa tuổi, kém nhất cũng đạt đến Luyện Thể tầng bốn, tầng năm.\\nĐời trước, Lăng Hàn là Thiên linh căn, hơn nữa còn là Cửu Dương Hỏa Linh Căn Thiên Cấp thượng phẩm, lại thêm thiên phú đan đạo không ai bằng, lấy đan phụ vũ, vẻn vẹn chỉ dùng hai trăm năm, liền đạt đến Thiên Nhân Cảnh, đây là kỷ lục cổ kim chưa có.\\n- Ngũ Hành Tạp Linh Căn, đây là linh căn thấp nhất a, chẳng trách, tuy tiền thân cực kỳ nỗ lực, nhưng chỉ có thể tới Luyện Thể tầng hai.\\n- Với ta mà nói, tuy Ngũ Hành Tạp Linh Căn có chút vướng tay chân, nhưng dựa vào đan dược, nhiều nhất bốn trăm năm, ta lại tới đỉnh cao!\\n- Ồ!\\nTrong lòng Lăng Hàn kinh ngạc thốt lên, trên mặt lộ ra vẻ khiếp sợ khó có thể tin tưởng, hắn sửng sốt một hồi lâu, mới lấy hồn lực mạnh mẽ quan sát linh căn ở đan điền, vẻ mặt kinh ngạc nhất thời biến thành mừng như điên.\\n- Cái này không phải Ngũ Hành Tạp Linh Căn, Ngũ hành hoàn toàn cân đối, hình thành một đóa Đạo Liên! Đây là Ngũ Hành Hỗn Độn Liên, cực phẩm trong cực phẩm, so với Cửu Dương Hỏa Linh Căn còn quý hiếm, có thể coi là Linh Căn Thần Cấp!\\n- Tiền thân tu luyện chậm, là bởi vì Linh Căn Thần Cấp, đều cần công pháp đặc biệt mới có thể phát huy ra uy năng chân chính.\\n- Mà ta... lại nắm giữ Ngũ Hành Thiên Cực Công, xứng đôi với Ngũ Hành Hỗn Độn Liên!\\n- Một trăm năm! Không, chỉ cần năm mươi năm, ta liền có thể đạt đến Thiên Nhân Cảnh lần nữa!\\nDù lấy tu vi Thiên Nhân Cảnh kiếp trước, Lăng Hàn cũng không nhịn được lộ vẻ vui mừng, linh căn khi sinh ra đã định, hậu thiên không cách nào thay đổi. Kiếp trước hắn vì Phá Hư thành Thần, thăm viếng qua vô số di tích, được lượng lớn công pháp bí thuật, Ngũ Hành Thiên Cực Công chính là một loại trong đó.\\nĐời trước, hắn đứng ở đỉnh cao võ đạo, đời này, hắn lại lập huy hoàng, viết ra thần thoại bất hủ.\\n- Tiền thân là chết như thế nào?\\nLăng Hàn lật tìm ký ức, rất nhanh hắn liền lộ ra vẻ giận dữ.\\nTiền thân là con trai độc nhất của Lăng gia gia chủ Lăng Đông Hành, mẫu thân, ông nội bà nội đã mất sớm. Mà Lăng gia là thế gia võ đạo, mỗi một tộc nhân đều luyện võ, cũng lấy võ vi tôn, tại sao Lăng Đông Hành có thể ngồi lên vị trí gia chủ? Là vì thực lực của hắn mạnh nhất, dùng nắm đấm đánh ra được.\\nNhưng Lăng Hàn, bởi vì vấn đề linh căn, từ nhỏ bị coi là phế vật, ăn hết khinh thường.\\nVì cho con trai một tương lai tươi sáng, Lăng Đông Hành và Hổ Dương Học Viện có thỏa thuận, Hổ Dương Học Viện sẽ chiêu thu Lăng Hàn trở thành đệ tử, toàn lực bồi dưỡng, mà coi như trao đổi, Lăng Đông Hành sẽ tiến vào Tử Quang Địa cốc, thay Hổ Dương Học Viện tìm kiếm một đồ vật thất lạc đã lâu.\\nHổ Dương Học Viện do Vũ Quốc Hoàng Triều xây dựng, tài nguyên vô số, nếu toàn lực bồi dưỡng, dù lại phế vật, cũng có thể tăng lên tới Tụ Nguyên Cảnh.\\nNgười của Hổ Dương Học Viện cũng không phải ngớ ngẩn, nếu dễ lấy được vật kia, sao chịu cho điều kiện hậu đãi như vậy?\\nTử Quang Địa cốc, nguy hiểm tầng tầng, đi nhầm một bước cũng có thể chết, nhưng vì con trai, Lăng Đông Hành ở bảy ngày trước liền xuất phát.\\nNgày hôm qua, người của Hổ Dương Học Viện đến, cũng thông báo Lăng Gia, hôm nay sẽ dựa theo ước định tới đón người. Nhưng lúc này, Lăng Gia Đại chấp sự Lăng Trọng Khoan lại chạy tới thương lượng với tiền thân, muốn hắn nhường lại tiêu chuẩn quý giá kia, cho cháu trai của hắn Lăng Mộ Vân.\\nLý do, Lăng Mộ Vân là thiên tài, tiền đồ vô hạn, cơ hội như vậy không thể cho một phế vật đi lãng phí.\\nTiền thân đương nhiên sẽ không đáp ứng, đây là cơ hội mà phụ thân hắn dùng mạng đổi lấy! Nhưng Lăng Trọng Khoan nói thương lượng, kỳ thực chỉ là thông báo cho tiền thân mà thôi, căn bản không để ý kiến của hắn ở trong lòng.\\nTiền thân không nhịn được ra tay, nhưng Lăng Trọng Khoan là cường giả Tụ Nguyên Cảnh, một ngón tay liền có thể trấn áp hắn, hắn há là đối thủ?\\nChỉ một quyền, tiền thân liền bị trọng thương, sau đó bị nhốt vào trong phòng của mình, hiển nhiên không muốn hắn quấy rối ở trước mặt người của Hổ Dương Học Viện, đợi lúc Lăng Đông Hành trở lại, thì ván đã đóng thuyền.\\nMà tiền thân trọng thương, thì bị tức chết rồi.\\nLăng Hàn hừ một tiếng, thực sự là khinh người quá đáng, cha của mình liều mạng đổi lấy tiêu chuẩn này, lại bị ông cháu của Lăng Trọng Khoan cướp đi?\\nĐôi cẩu vật vô liêm sỉ tới cực điểm!\\nKhông thể nhẫn nhịn!\\nHắn bò dậy khỏi giường, nhất thời cảm thấy toàn thân đau nhức, hắn là sống lại, nhưng vết thương trên người sẽ không vô duyên vô cớ chuyển biến tốt.\\n- Hả? Linh căn còn bị thương tích!\\nLăng Hàn hơi nhướng mày, một đòn này của Lăng Trọng Khoan, đã tạo thành thương tổn cho linh căn của hắn, mà linh căn bị thương, đây là một chuyện cực kỳ phiền phức, trị liệu phổ thông là vô hiệu.\\n- Theo ta biết, có bảy loại đan dược có thể chữa trị linh căn, có điều bốn loại trong đó quá đắt, dù bán sạch Lăng Gia cũng không đổi được, hơn nữa, linh căn của ta chỉ bị thương nhẹ, không cần đan dược cao cấp như thế.\\n- Còn lại ba loại, có hai loại muốn luyện chế thành đan, bằng vào tu vi Luyện Thể tầng hai của ta hiện tại, quá miễn cưỡng. Vậy chỉ còn một lựa chọn, là Nguyên Tâm linh dịch, chỉ cần điều phối dược liệu theo tỉ lệ, nấu thành linh dịch liền được.\\n- Trước tiên chửa khỏi tổn thương, lại đi ngăn cản ông cháu Lăng Trọng Khoan, tuy ta không thèm cái tiêu chuẩn kia, nhưng tuyệt không thể để cho cơ hội mà phụ thân dùng mạng đổi lấy, tiện nghi hai ông cháu không biết xấu hổ kia!\\nHắn khoanh chân ngồi xuống, bắt đầu vận chuyển Bất Diệt Thiên Kinh.\\nĐây là lần thứ nhất hắn vận chuyển công pháp có khả năng là Thần cấp này, nhưng bởi vì đã suy diễn hơn vạn năm, nên hiện tại điều khiển rất thong dong. Ong ong ong,… trong cơ thể hắn phát ra sinh cơ mạnh mẽ, nguyên lực tiêu hao lượng lớn, nhưng thương thế lại khôi phục cấp tốc.\\nVẻn vẹn mấy phút, thương thế của hắn đã lành hết.\\n- Không hổ là Bất Diệt Thiên Kinh, ta vừa bắt đầu tu luyện liền kỳ hiệu như thế. Chỉ là cái này hoàn toàn khác những công pháp khác, công pháp bình thường là lợi dụng linh căn chuyển hóa thiên địa linh khí thành nguyên lực, mà Bất Diệt Thiên Kinh thì ngược lại, lấy nguyên lực rèn luyện thân thể, cũng có thể trị liệu thương thế.\\n- Luyện đến cảnh giới tối cao, Bất Tử Bất Diệt cũng không phải là không thể.\\n- Cho nên mới có thể xưng là Thiên Kinh!\\n- Đáng tiếc hiện tại cấp độ không đủ, bằng không ta có thể lấy Bất Diệt Thiên Kinh chữa trị linh căn.\\nLăng Hàn mở hai mắt ra, nhìn sắc trời dần rõ ràng ngoài cửa sổ, lẩm bẩm nói:\\n- Hiện tại, nên đi gặp lão già không biết xấu hổ Lăng Trọng Khoan kia một lần, cho hắn một niềm vui bất ngờ.\\nHắn mang giày, đi tới cửa, mở ra.\\nNgoài cửa lập tức xuất hiện một bóng người cao to, ngăn đường đi của hắn, người này gọi Trương Viễn, là chó săn của Lăng Trọng Khoan.\\n- Hàn thiếu gia, Đại chấp sự dặn dò, ngày hôm nay ngươi chờ ở trong phòng!\\nTrương Viễn cười hắc hắc nói, mặc dù người đối diện là con trai của Gia chủ, nhưng lại phế vật, ở trong mắt hắn chính là một chuyện cười.\\nÁnh mắt của Lăng Hàn phát lạnh, nói:\\n- Ngươi dám cản ta?\\nCản chính là ngươi, Đại chấp sự nói rồi, ngày hôm nay ngàn vạn lần không thể để cho Lăng Hàn đi quấy rối, lúc cần thiết dù đánh một trận cũng được! Trương Nguyên ngoài cười nhưng trong không cười nói:\\n- Đây là mệnh lệnh của Đại chấp sự, kính xin Hàn thiếu gia không nên làm khó dễ ta.\\nCon chó già Lăng Trọng Khoan này cũng thật cẩn thận, đánh hắn trọng thương vẫn không yên lòng, còn phái người giữ cửa, mà chuyện này cũng có thể nhìn ra, để cháu trai tiến vào Hổ Dương Học Viện, đối với Lăng Trọng Khoan mà nói nặng đến đâu, bất quá thời điểm cái hi vọng này phá diệt, Lăng Trọng Khoan thất vọng, căm tức cũng có thể tưởng tượng được.\\n- Cút ngay!\\nLăng Hàn lạnh lùng nói.\\n- Hàn thiếu gia, đây chính là Đại…\\nĐùng!\\nLăng Hàn giơ tay quất tới, lạnh lùng nói:\\n- Ngươi là thứ gì, bảo ngươi cút ngươi còn không cút?\\nCái gì, mình lại bị một phế vật tát tai? Trương Viễn không thể tin tưởng sờ mặt của mình, phế vật kia lại dám ra tay với hắn, hơn nữa còn đánh trúng, đây là chuyện cười gì a?\\nHắn giận tím mặt, nghĩ đến trước đó, Lăng Trọng Khoan nói lúc cần thiết có thể động thủ, không khỏi sinh ác tâm, điềm nhiên nói:\\n- Hàn thiếu gia, đây là ngươi buộc ta…\\nĐùng!\\nLăng Hàn phất tay lần thứ hai, lại vững vàng đánh hắn một cái tát.'"
     },
     "execution_count": 42,
     "metadata": {},
     "output_type": "execute_result"
    }
   ],
   "source": [
    "\"\\n\".join(response.css(\".chapter-c::text\").getall())"
   ],
   "metadata": {
    "collapsed": false,
    "ExecuteTime": {
     "end_time": "2023-12-18T07:22:27.177727199Z",
     "start_time": "2023-12-18T07:22:27.134780767Z"
    }
   },
   "id": "65bdd2c6c85b70f0"
  },
  {
   "cell_type": "code",
   "execution_count": 36,
   "outputs": [
    {
     "data": {
      "text/plain": "[]"
     },
     "execution_count": 36,
     "metadata": {},
     "output_type": "execute_result"
    }
   ],
   "source": [
    "response.xpath(\n",
    "            '//ul[contains(@class, \"pagination\")]//li[contains(@class, \"active\")]/following-sibling::'\n",
    "            'li[1][not(contains(@class, \"dropup\"))]/a/@href').getall()"
   ],
   "metadata": {
    "collapsed": false,
    "ExecuteTime": {
     "end_time": "2023-12-18T07:07:07.097681932Z",
     "start_time": "2023-12-18T07:07:07.086532620Z"
    }
   },
   "id": "fff326f41064d8de"
  },
  {
   "cell_type": "code",
   "execution_count": null,
   "outputs": [],
   "source": [],
   "metadata": {
    "collapsed": false
   },
   "id": "40d505d0dae3a8a9"
  }
 ],
 "metadata": {
  "kernelspec": {
   "display_name": "Python 3",
   "language": "python",
   "name": "python3"
  },
  "language_info": {
   "codemirror_mode": {
    "name": "ipython",
    "version": 2
   },
   "file_extension": ".py",
   "mimetype": "text/x-python",
   "name": "python",
   "nbconvert_exporter": "python",
   "pygments_lexer": "ipython2",
   "version": "2.7.6"
  }
 },
 "nbformat": 4,
 "nbformat_minor": 5
}

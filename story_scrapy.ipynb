{
 "cells": [
  {
   "cell_type": "code",
   "execution_count": 1,
   "id": "initial_id",
   "metadata": {
    "collapsed": true,
    "ExecuteTime": {
     "end_time": "2023-12-18T02:47:41.573331919Z",
     "start_time": "2023-12-18T02:47:41.109327546Z"
    }
   },
   "outputs": [],
   "source": [
    "import requests\n",
    "from scrapy.http import TextResponse\n",
    "\n",
    "res = requests.get('https://truyenfull.vn/danh-sach/truyen-hot/')\n",
    "response = TextResponse(res.url, body=res.text, encoding='utf-8')"
   ]
  },
  {
   "cell_type": "code",
   "execution_count": 63,
   "outputs": [
    {
     "data": {
      "text/plain": "<200 https://truyenfull.vn/danh-sach/truyen-hot/>"
     },
     "execution_count": 63,
     "metadata": {},
     "output_type": "execute_result"
    }
   ],
   "source": [
    "response"
   ],
   "metadata": {
    "collapsed": false,
    "ExecuteTime": {
     "end_time": "2023-12-15T02:24:28.840321555Z",
     "start_time": "2023-12-15T02:24:28.838114600Z"
    }
   },
   "id": "f015039662587ce1"
  },
  {
   "cell_type": "code",
   "execution_count": 64,
   "outputs": [
    {
     "data": {
      "text/plain": "'https://truyenfull.vn/danh-sach/truyen-hot/trang-2/'"
     },
     "execution_count": 64,
     "metadata": {},
     "output_type": "execute_result"
    }
   ],
   "source": [
    "response.xpath('//div[contains(@class, \"pagination\")]//li[contains(@class, \"active\")]/following-sibling::li[1][not(contains(@class, \"dropup\"))]/a/@href').get()"
   ],
   "metadata": {
    "collapsed": false,
    "ExecuteTime": {
     "end_time": "2023-12-15T02:24:29.521538667Z",
     "start_time": "2023-12-15T02:24:29.495058635Z"
    }
   },
   "id": "3018a0918c2b02b5"
  },
  {
   "cell_type": "code",
   "execution_count": 33,
   "outputs": [
    {
     "ename": "AttributeError",
     "evalue": "'str' object has no attribute 'css'",
     "output_type": "error",
     "traceback": [
      "\u001B[0;31m---------------------------------------------------------------------------\u001B[0m",
      "\u001B[0;31mAttributeError\u001B[0m                            Traceback (most recent call last)",
      "Cell \u001B[0;32mIn[33], line 2\u001B[0m\n\u001B[1;32m      1\u001B[0m \u001B[38;5;28;01mfor\u001B[39;00m genre \u001B[38;5;129;01min\u001B[39;00m genres:\n\u001B[0;32m----> 2\u001B[0m     \u001B[38;5;28mprint\u001B[39m(\u001B[43mgenre\u001B[49m\u001B[38;5;241;43m.\u001B[39;49m\u001B[43mcss\u001B[49m(\u001B[38;5;124m\"\u001B[39m\u001B[38;5;124ma::text\u001B[39m\u001B[38;5;124m\"\u001B[39m)\u001B[38;5;241m.\u001B[39mget())\n",
      "\u001B[0;31mAttributeError\u001B[0m: 'str' object has no attribute 'css'"
     ]
    }
   ],
   "source": [
    "for genre in genres:\n",
    "    print(genre.css(\"a::text\").get())"
   ],
   "metadata": {
    "collapsed": false,
    "ExecuteTime": {
     "end_time": "2023-12-15T02:08:40.473690382Z",
     "start_time": "2023-12-15T02:08:40.275926768Z"
    }
   },
   "id": "1026c5978bd7b4b8"
  },
  {
   "cell_type": "code",
   "execution_count": 16,
   "outputs": [
    {
     "data": {
      "text/plain": "['https://truyenfull.vn/than-dao-dan-ton-606028/',\n 'https://truyenfull.vn/linh-vu-thien-ha/',\n 'https://truyenfull.vn/truyen-dau-pha-thuong-khung/',\n 'https://truyenfull.vn/me-vo-khong-loi-ve-982891/',\n 'https://truyenfull.vn/the-gioi-hoan-my/',\n 'https://truyenfull.vn/co-vo-ngot-ngao-co-chut-bat-luong-vo-moi-bat-luong-co-chut-ngot/',\n 'https://truyenfull.vn/pham-nhan-tu-tien/',\n 'https://truyenfull.vn/nhat-niem-vinh-hang/',\n 'https://truyenfull.vn/de-ba/',\n 'https://truyenfull.vn/re-quy-troi-cho-480197/',\n 'https://truyenfull.vn/tien-nghich/',\n 'https://truyenfull.vn/vu-dong-can-khon/',\n 'https://truyenfull.vn/van-co-chi-ton/',\n 'https://truyenfull.vn/ngao-the-dan-than/',\n 'https://truyenfull.vn/doc-ton-tam-gioi/',\n 'https://truyenfull.vn/nguyen-ton/',\n 'https://truyenfull.vn/mao-son-troc-quy-nhan/',\n 'https://truyenfull.vn/vu-than-chua-te/',\n 'https://truyenfull.vn/dao-tinh/',\n 'https://truyenfull.vn/hao-mon-kinh-mong-3-dung-de-lo-nhau/',\n 'https://truyenfull.vn/xuyen-nhanh-nam-than-bung-chay-di/',\n 'https://truyenfull.vn/thieu-gia-bi-bo-roi/',\n 'https://truyenfull.vn/pham-nhan-tu-tien-chi-tien-gioi-thien-pham-nhan-tu-tien-2/',\n 'https://truyenfull.vn/gia-thien/',\n 'https://truyenfull.vn/nam-chu-benh-kieu-sung-len-troi-657780/',\n 'https://truyenfull.vn/truyen-than-khong-thien-ha/',\n 'https://truyenfull.vn/dai-chua-te/']"
     },
     "execution_count": 16,
     "metadata": {},
     "output_type": "execute_result"
    }
   ],
   "source": [
    "response.css('.col-truyen-main .list-truyen .row h3 a::attr(href)').getall()"
   ],
   "metadata": {
    "collapsed": false,
    "ExecuteTime": {
     "end_time": "2023-12-15T01:47:19.295912174Z",
     "start_time": "2023-12-15T01:47:19.246951333Z"
    }
   },
   "id": "e620c40016f4cee2"
  },
  {
   "cell_type": "code",
   "execution_count": 43,
   "outputs": [],
   "source": [
    "res = requests.get(\"https://truyenfull.vn/than-dao-dan-ton-606028/\")\n",
    "response = TextResponse(res.url, body=res.text, encoding='utf-8')"
   ],
   "metadata": {
    "collapsed": false,
    "ExecuteTime": {
     "end_time": "2023-12-18T09:58:21.411308825Z",
     "start_time": "2023-12-18T09:58:21.227868443Z"
    }
   },
   "id": "5fcd35c85c3f042e"
  },
  {
   "cell_type": "code",
   "execution_count": 52,
   "outputs": [
    {
     "data": {
      "text/plain": "'6.9'"
     },
     "execution_count": 52,
     "metadata": {},
     "output_type": "execute_result"
    }
   ],
   "source": [
    "response.css(\".col-truyen-main .desc .rate .small span[itemprop='ratingValue']::text\").get()"
   ],
   "metadata": {
    "collapsed": false,
    "ExecuteTime": {
     "end_time": "2023-12-18T10:05:38.916597792Z",
     "start_time": "2023-12-18T10:05:38.905852222Z"
    }
   },
   "id": "65bdd2c6c85b70f0"
  },
  {
   "cell_type": "code",
   "execution_count": 36,
   "outputs": [
    {
     "data": {
      "text/plain": "[]"
     },
     "execution_count": 36,
     "metadata": {},
     "output_type": "execute_result"
    }
   ],
   "source": [
    "response.xpath(\n",
    "            '//ul[contains(@class, \"pagination\")]//li[contains(@class, \"active\")]/following-sibling::'\n",
    "            'li[1][not(contains(@class, \"dropup\"))]/a/@href').getall()"
   ],
   "metadata": {
    "collapsed": false,
    "ExecuteTime": {
     "end_time": "2023-12-18T07:07:07.097681932Z",
     "start_time": "2023-12-18T07:07:07.086532620Z"
    }
   },
   "id": "fff326f41064d8de"
  },
  {
   "cell_type": "code",
   "execution_count": null,
   "outputs": [],
   "source": [],
   "metadata": {
    "collapsed": false
   },
   "id": "40d505d0dae3a8a9"
  }
 ],
 "metadata": {
  "kernelspec": {
   "display_name": "Python 3",
   "language": "python",
   "name": "python3"
  },
  "language_info": {
   "codemirror_mode": {
    "name": "ipython",
    "version": 2
   },
   "file_extension": ".py",
   "mimetype": "text/x-python",
   "name": "python",
   "nbconvert_exporter": "python",
   "pygments_lexer": "ipython2",
   "version": "2.7.6"
  }
 },
 "nbformat": 4,
 "nbformat_minor": 5
}

{
 "cells": [
  {
   "cell_type": "code",
   "execution_count": 1,
   "id": "initial_id",
   "metadata": {
    "collapsed": true,
    "ExecuteTime": {
     "end_time": "2023-12-12T04:49:15.028414499Z",
     "start_time": "2023-12-12T04:49:13.947848106Z"
    }
   },
   "outputs": [],
   "source": [
    "import requests\n",
    "from scrapy.http import TextResponse\n",
    "\n",
    "res = requests.get('https://truyenfull.vn/')\n",
    "response = TextResponse(res.url, body=res.text, encoding='utf-8')"
   ]
  },
  {
   "cell_type": "code",
   "execution_count": 2,
   "outputs": [
    {
     "data": {
      "text/plain": "<200 https://truyenfull.vn/>"
     },
     "execution_count": 2,
     "metadata": {},
     "output_type": "execute_result"
    }
   ],
   "source": [
    "response"
   ],
   "metadata": {
    "collapsed": false,
    "ExecuteTime": {
     "end_time": "2023-12-12T04:49:23.148948395Z",
     "start_time": "2023-12-12T04:49:22.963765366Z"
    }
   },
   "id": "f015039662587ce1"
  },
  {
   "cell_type": "code",
   "execution_count": 39,
   "outputs": [
    {
     "data": {
      "text/plain": "['Tiên Hiệp',\n 'Kiếm Hiệp',\n 'Ngôn Tình',\n 'Đam Mỹ',\n 'Quan Trường',\n 'Võng Du',\n 'Khoa Huyễn',\n 'Hệ Thống',\n 'Huyền Huyễn',\n 'Dị Giới',\n 'Dị Năng',\n 'Quân Sự',\n 'Lịch Sử',\n 'Xuyên Không',\n 'Xuyên Nhanh',\n 'Trọng Sinh',\n 'Trinh Thám',\n 'Thám Hiểm',\n 'Linh Dị',\n 'Ngược',\n 'Sủng',\n 'Cung Đấu',\n 'Nữ Cường',\n 'Gia Đấu',\n 'Đông Phương',\n 'Đô Thị',\n 'Bách Hợp',\n 'Hài Hước',\n 'Điền Văn',\n 'Cổ Đại',\n 'Mạt Thế',\n 'Truyện Teen',\n 'Phương Tây',\n 'Nữ Phụ',\n 'Light Novel',\n 'Việt Nam',\n 'Đoản Văn',\n 'Khác']"
     },
     "execution_count": 39,
     "metadata": {},
     "output_type": "execute_result"
    }
   ],
   "source": [
    "genres = response.css(\".list-truyen.list-cat .row a::text\").getall()"
   ],
   "metadata": {
    "collapsed": false,
    "ExecuteTime": {
     "end_time": "2023-12-12T06:48:54.533447325Z",
     "start_time": "2023-12-12T06:48:54.487070450Z"
    }
   },
   "id": "3018a0918c2b02b5"
  },
  {
   "cell_type": "code",
   "execution_count": 26,
   "outputs": [
    {
     "ename": "AttributeError",
     "evalue": "'str' object has no attribute 'css'",
     "output_type": "error",
     "traceback": [
      "\u001B[0;31m---------------------------------------------------------------------------\u001B[0m",
      "\u001B[0;31mAttributeError\u001B[0m                            Traceback (most recent call last)",
      "Cell \u001B[0;32mIn[26], line 2\u001B[0m\n\u001B[1;32m      1\u001B[0m \u001B[38;5;28;01mfor\u001B[39;00m genre \u001B[38;5;129;01min\u001B[39;00m genres:\n\u001B[0;32m----> 2\u001B[0m     \u001B[38;5;28mprint\u001B[39m(\u001B[43mgenre\u001B[49m\u001B[38;5;241;43m.\u001B[39;49m\u001B[43mcss\u001B[49m(\u001B[38;5;124m\"\u001B[39m\u001B[38;5;124ma::text\u001B[39m\u001B[38;5;124m\"\u001B[39m)\u001B[38;5;241m.\u001B[39mget())\n",
      "\u001B[0;31mAttributeError\u001B[0m: 'str' object has no attribute 'css'"
     ]
    }
   ],
   "source": [
    "for genre in genres:\n",
    "    print(genre.css(\"a::text\").get())"
   ],
   "metadata": {
    "collapsed": false,
    "ExecuteTime": {
     "end_time": "2023-12-12T06:45:37.748432151Z",
     "start_time": "2023-12-12T06:45:37.730970307Z"
    }
   },
   "id": "1026c5978bd7b4b8"
  },
  {
   "cell_type": "code",
   "execution_count": 28,
   "outputs": [
    {
     "data": {
      "text/plain": "[]"
     },
     "execution_count": 28,
     "metadata": {},
     "output_type": "execute_result"
    }
   ],
   "source": [
    "response.css('nav#menu > ul > li:nth-child(1) > ul > li > a::text')"
   ],
   "metadata": {
    "collapsed": false,
    "ExecuteTime": {
     "end_time": "2023-12-12T06:46:22.267387987Z",
     "start_time": "2023-12-12T06:46:22.259637130Z"
    }
   },
   "id": "bc8b151fd37b77fd"
  },
  {
   "cell_type": "code",
   "execution_count": null,
   "outputs": [],
   "source": [],
   "metadata": {
    "collapsed": false
   },
   "id": "76166d7c635a5fc9"
  }
 ],
 "metadata": {
  "kernelspec": {
   "display_name": "Python 3",
   "language": "python",
   "name": "python3"
  },
  "language_info": {
   "codemirror_mode": {
    "name": "ipython",
    "version": 2
   },
   "file_extension": ".py",
   "mimetype": "text/x-python",
   "name": "python",
   "nbconvert_exporter": "python",
   "pygments_lexer": "ipython2",
   "version": "2.7.6"
  }
 },
 "nbformat": 4,
 "nbformat_minor": 5
}

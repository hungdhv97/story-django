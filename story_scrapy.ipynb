{
 "cells": [
  {
   "cell_type": "code",
   "execution_count": 1,
   "id": "initial_id",
   "metadata": {
    "collapsed": true,
    "ExecuteTime": {
     "end_time": "2023-12-25T08:19:42.346934522Z",
     "start_time": "2023-12-25T08:19:41.614923371Z"
    }
   },
   "outputs": [],
   "source": [
    "import requests\n",
    "from scrapy.http import TextResponse\n",
    "\n",
    "res = requests.get('https://truyenfull.vn/hao-mon-kinh-mong-3-dung-de-lo-nhau/quyen-1-chuong-40/')\n",
    "response = TextResponse(res.url, body=res.text, encoding='utf-8')"
   ]
  },
  {
   "cell_type": "code",
   "execution_count": 6,
   "outputs": [
    {
     "data": {
      "text/plain": "'Quyển 1 - Chương 40: Một bên là tiền bạc, một bên là tình bạn'"
     },
     "execution_count": 6,
     "metadata": {},
     "output_type": "execute_result"
    }
   ],
   "source": [
    "''.join(response.css(\".chapter-title ::text\").getall())"
   ],
   "metadata": {
    "collapsed": false,
    "ExecuteTime": {
     "end_time": "2023-12-25T08:20:37.777936929Z",
     "start_time": "2023-12-25T08:20:37.768541111Z"
    }
   },
   "id": "3018a0918c2b02b5"
  },
  {
   "cell_type": "code",
   "execution_count": 3,
   "outputs": [
    {
     "data": {
      "text/plain": "['https://truyenfull.vn/than-dao-dan-ton-606028/',\n 'https://truyenfull.vn/linh-vu-thien-ha/',\n 'https://truyenfull.vn/truyen-dau-pha-thuong-khung/',\n 'https://truyenfull.vn/me-vo-khong-loi-ve-982891/',\n 'https://truyenfull.vn/the-gioi-hoan-my/',\n 'https://truyenfull.vn/co-vo-ngot-ngao-co-chut-bat-luong-vo-moi-bat-luong-co-chut-ngot/',\n 'https://truyenfull.vn/pham-nhan-tu-tien/',\n 'https://truyenfull.vn/nhat-niem-vinh-hang/',\n 'https://truyenfull.vn/de-ba/',\n 'https://truyenfull.vn/re-quy-troi-cho-480197/',\n 'https://truyenfull.vn/tien-nghich/',\n 'https://truyenfull.vn/vu-dong-can-khon/',\n 'https://truyenfull.vn/van-co-chi-ton/',\n 'https://truyenfull.vn/ngao-the-dan-than/',\n 'https://truyenfull.vn/doc-ton-tam-gioi/',\n 'https://truyenfull.vn/nguyen-ton/',\n 'https://truyenfull.vn/mao-son-troc-quy-nhan/',\n 'https://truyenfull.vn/vu-than-chua-te/',\n 'https://truyenfull.vn/dao-tinh/',\n 'https://truyenfull.vn/hao-mon-kinh-mong-3-dung-de-lo-nhau/',\n 'https://truyenfull.vn/xuyen-nhanh-nam-than-bung-chay-di/',\n 'https://truyenfull.vn/gia-thien/',\n 'https://truyenfull.vn/thieu-gia-bi-bo-roi/',\n 'https://truyenfull.vn/pham-nhan-tu-tien-chi-tien-gioi-thien-pham-nhan-tu-tien-2/',\n 'https://truyenfull.vn/truyen-than-khong-thien-ha/',\n 'https://truyenfull.vn/nam-chu-benh-kieu-sung-len-troi-657780/',\n 'https://truyenfull.vn/dai-chua-te/']"
     },
     "execution_count": 3,
     "metadata": {},
     "output_type": "execute_result"
    }
   ],
   "source": [
    "response.css('.col-truyen-main .list-truyen .row h3 a::attr(href)').getall()"
   ],
   "metadata": {
    "collapsed": false,
    "ExecuteTime": {
     "end_time": "2023-12-22T04:09:59.680865725Z",
     "start_time": "2023-12-22T04:09:59.661438052Z"
    }
   },
   "id": "e620c40016f4cee2"
  },
  {
   "cell_type": "code",
   "execution_count": 13,
   "outputs": [],
   "source": [
    "res = requests.get(\"https://truyenfull.vn/the-gioi-hoan-my/chuong-1/\")\n",
    "response = TextResponse(res.url, body=res.text, encoding='utf-8')"
   ],
   "metadata": {
    "collapsed": false,
    "ExecuteTime": {
     "end_time": "2023-12-22T04:11:15.418012361Z",
     "start_time": "2023-12-22T04:11:15.248957180Z"
    }
   },
   "id": "5fcd35c85c3f042e"
  },
  {
   "cell_type": "code",
   "execution_count": 15,
   "outputs": [
    {
     "data": {
      "text/plain": "['Đêm đã về khuya, bóng tối phủ kín khắp nơi, bao trùm lên cảnh vật. Thế nhưng trong núi lại chẳng hề yên tĩnh, tiếng mãnh thú rít gào rung động cả non sông, cây cối rung lên, lá bay tán loạn.',\n 'Chốn rừng núi mênh mang là nơi hoạt động của vô số mãnh thú hồng hoang cùng những chủng tộc sót lại từ thời Thái Cổ. Tiếng kêu đáng sợ của muôn loài rống lên trong bóng tối, khiến mặt đất như muốn nứt toác ra.',\n 'Từ trong dãy núi trông xa thấy có thấp thoáng một quầng sáng nhu hòa, tựa như một ngọn nến lập lòe dưới màn đêm đen vô tận, lẩn khuất giữa muôn trùng núi, ánh sáng dường như có thể vụt tắt bất cứ lúc nào. ',\n 'Bạn đang xem truyện được sao chép tại: ',\n 'TruyenFull.vn',\n 'Đến gần hơn, có thể thấy rõ ở đó có một nửa thân cây khô khổng lồ, đường kính thân cây ước chừng hơn chục mét, toàn thân cháy đen, ngoại trừ một nửa thân cây này, chỉ còn lại một cành cây yếu ớt nhưng lại tỏa ra sức sống. Lá cây lung linh như được khắc từ lục ngọc, tán phát từng đốm sáng nhu hòa bao trùm lấy cả một thôn làng.',\n 'Nói một cách chính xác thì đây là một thân cây sét đánh, rất nhiều năm về trước nó từng gặp phải một trận sét thông thiên, vòm cây um tùm cùng sức sống tràn trề của gốc liễu già đã bị sấm sét phá hủy. Nay chỉ còn lại một đoạn gốc cao chừng tám chín mét trồi lên mặt đất, đường kính rộng kinh người, cành liễu duy nhất sót lại kia trông như sợi xích thần bằng mây lục bích, hào quang ngập tràn bao trùm che chở cho cả thôn làng, khiến mảnh đất này trở nên mông lung như một vùng tiên thổ, trong chốn đại hoang cảm giác vô cùng thần bí.',\n 'Nhà nhà trong thôn đều xây bằng đá. Đêm khuya thanh vắng, vẻ an lành yên ả của chốn này dường như tách biệt hẳn với bóng tối cùng tiếng mãnh thú gào thét bên ngoài.',\n '\"Hú uuuuu….\"',\n 'Một trận cuồng phong thổi qua, có đám mây đen khổng lồ vắt ngang trời, che kín cả màn đêm, chắn nốt chút xíu ánh sao yếu ớt khiến dãy núi càng thêm tăm tối.',\n 'Một tiếng chim kêu hung tợn từ trên cao vọng xuống, tiếng kêu sắc lẻm có sức xuyên thấu mạnh, không ngờ lại bắt nguồn từ đám mây đen kia. Nhìn kỹ, thì ra đó là một con chim khổng lồ to đến không tưởng, che lấp trăng sao, dài không biết bao nhiêu dặm.',\n 'Đi qua Thạch Thôn, nó cúi đầu nhìn xuống, hai con mắt tựa như hai vầng trăng máu, hung khí ngút trời. Nó nhìn chằm chằm gốc liễu già trong chốc lát, cuối cùng bay về phía sâu nhất trong dãy núi.',\n 'Yên ắng một lúc lâu mãi cho đến tận nửa đêm, mặt đất bắt đầu rung chuyển. Một bóng dáng mơ hồ từ phương xa bước tới, cao ngang đỉnh núi!',\n 'Một hơi thở kì lạ lan tỏa, núi rừng lặng ngắt một cách chết chóc, hung cầm mãnh thú cúi rạp mình không dám phát ra một chút xíu âm thanh.',\n 'Lại gần, đây là một sinh vật có hình người, dáng đứng thẳng, nó cao lớn vô cùng, sánh ngang đỉnh núi, toàn thân nó không có lông tóc gì mà dày đặc một lớp vảy vàng kim lấp lánh. Mặt nó phẳng lì, chỉ có một con mắt thẳng, mỗi lần chớp mở như có ánh sét vàng kim rạch qua, sắc bén ghê người. Toàn thân nó huyết khí mênh mông, tựa như một vị thần ma!',\n 'Nó đi ngang qua chốn này, liếc nhìn gốc liễu, thoáng dừng chân rồi dường như đang vội vã lên đường, cuối cùng nhanh chóng bỏ đi. Vô vàn ngọn núi như đang rên rỉ dưới từng bước chân của nó, cả chốn núi rừng cũng bị uy thế ấy làm cho run rẩy.',\n 'Bình minh lên, một con rết dài mười mét, thân to như thùng nước, tỏa ánh sáng bạc lấp lánh bò ngoằn ngoèo trong núi. Con rết như được đúc từ bạc trắng, mỗi một đốt đều sáng bóng dữ dằn, đập vào đá núi rầm rầm, tia lửa bắn tung tóe. Nhưng cuối cùng nó lại tránh qua Thạch Thôn mà không hề xâm nhập, nơi nó đi qua sương đen mịt mù, muông thú đều lẩn tránh.',\n 'Một cành liễu mảnh mai tỏa ánh sáng bích hà óng ánh khẽ đung đưa trong gió….']"
     },
     "execution_count": 15,
     "metadata": {},
     "output_type": "execute_result"
    }
   ],
   "source": [
    "response.css(\".chapter-c ::text\").getall()"
   ],
   "metadata": {
    "collapsed": false,
    "ExecuteTime": {
     "end_time": "2023-12-22T04:12:14.817665147Z",
     "start_time": "2023-12-22T04:12:14.808831547Z"
    }
   },
   "id": "65bdd2c6c85b70f0"
  },
  {
   "cell_type": "code",
   "outputs": [],
   "source": [],
   "metadata": {
    "collapsed": false
   },
   "id": "fb405b710ffb13fa"
  }
 ],
 "metadata": {
  "kernelspec": {
   "display_name": "Python 3",
   "language": "python",
   "name": "python3"
  },
  "language_info": {
   "codemirror_mode": {
    "name": "ipython",
    "version": 2
   },
   "file_extension": ".py",
   "mimetype": "text/x-python",
   "name": "python",
   "nbconvert_exporter": "python",
   "pygments_lexer": "ipython2",
   "version": "2.7.6"
  }
 },
 "nbformat": 4,
 "nbformat_minor": 5
}
